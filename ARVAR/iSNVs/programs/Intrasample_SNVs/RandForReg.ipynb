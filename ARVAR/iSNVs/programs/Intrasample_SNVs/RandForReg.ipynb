{
 "cells": [
  {
   "cell_type": "code",
   "execution_count": 11,
   "metadata": {},
   "outputs": [],
   "source": [
    "from sklearn.model_selection import train_test_split\n",
    "from sklearn.metrics import roc_auc_score\n",
    "from sklearn.ensemble import RandomForestClassifier\n",
    "import pandas as pd\n",
    "import os\n",
    "from sklearn.metrics import confusion_matrix, roc_auc_score"
   ]
  },
  {
   "cell_type": "code",
   "execution_count": 12,
   "metadata": {},
   "outputs": [],
   "source": [
    "os.chdir(\"/home/ubuntu/extraVol/ARVAR/iSNVs\")\n",
    "df = pd.read_csv('IntraSnv_results/ampseq_ConsTest_freq_1_0.csv')\n",
    "#df = pd.read_csv('IntraSnv_results/metaseq_ConsTest_freq_1_0.csv')\n",
    "mask = df[['Var_Al_RelPos', 'Ref_Al_RelPos']].isna().any(axis=1)\n",
    "varNa = df[mask]\n",
    "dfFilt = df.dropna(subset=['Var_Al_RelPos', 'Ref_Al_RelPos'], how='any').reset_index(drop = True)"
   ]
  },
  {
   "cell_type": "code",
   "execution_count": 13,
   "metadata": {},
   "outputs": [],
   "source": [
    "colOpt1 = ['ALLELE.FREQUENCY', 'STRAND.BIAS', 'QUAL', 'Var_Al_RelPos', 'Ref_Al_RelPos',  'meandepth', 'meanbaseq']\n",
    "colOpt5 = ['ALLELE.FREQUENCY', 'STRAND.BIAS', 'QUAL', 'Var_Al_RelPos', 'Ref_Al_RelPos',  'meandepth', 'meanbaseq', 'Sample', 'Sample_AlignPos_Ref_Var']\n",
    "X = dfFilt[colOpt5]\n",
    "y = dfFilt['ConsTest']\n",
    "varNa = X[X.isna().any(axis=1)]\n",
    "respNa = y[y.isna()]\n",
    "X_train_1, X_test_1, y_train, y_test = train_test_split(X, y, test_size=0.3, random_state=42)\n",
    "X_train = X_train_1[colOpt1]\n",
    "X_test = X_test_1[colOpt1]"
   ]
  },
  {
   "cell_type": "code",
   "execution_count": 14,
   "metadata": {},
   "outputs": [
    {
     "data": {
      "text/html": [
       "<style>#sk-container-id-2 {color: black;}#sk-container-id-2 pre{padding: 0;}#sk-container-id-2 div.sk-toggleable {background-color: white;}#sk-container-id-2 label.sk-toggleable__label {cursor: pointer;display: block;width: 100%;margin-bottom: 0;padding: 0.3em;box-sizing: border-box;text-align: center;}#sk-container-id-2 label.sk-toggleable__label-arrow:before {content: \"▸\";float: left;margin-right: 0.25em;color: #696969;}#sk-container-id-2 label.sk-toggleable__label-arrow:hover:before {color: black;}#sk-container-id-2 div.sk-estimator:hover label.sk-toggleable__label-arrow:before {color: black;}#sk-container-id-2 div.sk-toggleable__content {max-height: 0;max-width: 0;overflow: hidden;text-align: left;background-color: #f0f8ff;}#sk-container-id-2 div.sk-toggleable__content pre {margin: 0.2em;color: black;border-radius: 0.25em;background-color: #f0f8ff;}#sk-container-id-2 input.sk-toggleable__control:checked~div.sk-toggleable__content {max-height: 200px;max-width: 100%;overflow: auto;}#sk-container-id-2 input.sk-toggleable__control:checked~label.sk-toggleable__label-arrow:before {content: \"▾\";}#sk-container-id-2 div.sk-estimator input.sk-toggleable__control:checked~label.sk-toggleable__label {background-color: #d4ebff;}#sk-container-id-2 div.sk-label input.sk-toggleable__control:checked~label.sk-toggleable__label {background-color: #d4ebff;}#sk-container-id-2 input.sk-hidden--visually {border: 0;clip: rect(1px 1px 1px 1px);clip: rect(1px, 1px, 1px, 1px);height: 1px;margin: -1px;overflow: hidden;padding: 0;position: absolute;width: 1px;}#sk-container-id-2 div.sk-estimator {font-family: monospace;background-color: #f0f8ff;border: 1px dotted black;border-radius: 0.25em;box-sizing: border-box;margin-bottom: 0.5em;}#sk-container-id-2 div.sk-estimator:hover {background-color: #d4ebff;}#sk-container-id-2 div.sk-parallel-item::after {content: \"\";width: 100%;border-bottom: 1px solid gray;flex-grow: 1;}#sk-container-id-2 div.sk-label:hover label.sk-toggleable__label {background-color: #d4ebff;}#sk-container-id-2 div.sk-serial::before {content: \"\";position: absolute;border-left: 1px solid gray;box-sizing: border-box;top: 0;bottom: 0;left: 50%;z-index: 0;}#sk-container-id-2 div.sk-serial {display: flex;flex-direction: column;align-items: center;background-color: white;padding-right: 0.2em;padding-left: 0.2em;position: relative;}#sk-container-id-2 div.sk-item {position: relative;z-index: 1;}#sk-container-id-2 div.sk-parallel {display: flex;align-items: stretch;justify-content: center;background-color: white;position: relative;}#sk-container-id-2 div.sk-item::before, #sk-container-id-2 div.sk-parallel-item::before {content: \"\";position: absolute;border-left: 1px solid gray;box-sizing: border-box;top: 0;bottom: 0;left: 50%;z-index: -1;}#sk-container-id-2 div.sk-parallel-item {display: flex;flex-direction: column;z-index: 1;position: relative;background-color: white;}#sk-container-id-2 div.sk-parallel-item:first-child::after {align-self: flex-end;width: 50%;}#sk-container-id-2 div.sk-parallel-item:last-child::after {align-self: flex-start;width: 50%;}#sk-container-id-2 div.sk-parallel-item:only-child::after {width: 0;}#sk-container-id-2 div.sk-dashed-wrapped {border: 1px dashed gray;margin: 0 0.4em 0.5em 0.4em;box-sizing: border-box;padding-bottom: 0.4em;background-color: white;}#sk-container-id-2 div.sk-label label {font-family: monospace;font-weight: bold;display: inline-block;line-height: 1.2em;}#sk-container-id-2 div.sk-label-container {text-align: center;}#sk-container-id-2 div.sk-container {/* jupyter's `normalize.less` sets `[hidden] { display: none; }` but bootstrap.min.css set `[hidden] { display: none !important; }` so we also need the `!important` here to be able to override the default hidden behavior on the sphinx rendered scikit-learn.org. See: https://github.com/scikit-learn/scikit-learn/issues/21755 */display: inline-block !important;position: relative;}#sk-container-id-2 div.sk-text-repr-fallback {display: none;}</style><div id=\"sk-container-id-2\" class=\"sk-top-container\"><div class=\"sk-text-repr-fallback\"><pre>RandomForestClassifier(max_features=None, n_estimators=3000, n_jobs=-1,\n",
       "                       oob_score=True, random_state=42)</pre><b>In a Jupyter environment, please rerun this cell to show the HTML representation or trust the notebook. <br />On GitHub, the HTML representation is unable to render, please try loading this page with nbviewer.org.</b></div><div class=\"sk-container\" hidden><div class=\"sk-item\"><div class=\"sk-estimator sk-toggleable\"><input class=\"sk-toggleable__control sk-hidden--visually\" id=\"sk-estimator-id-2\" type=\"checkbox\" checked><label for=\"sk-estimator-id-2\" class=\"sk-toggleable__label sk-toggleable__label-arrow\">RandomForestClassifier</label><div class=\"sk-toggleable__content\"><pre>RandomForestClassifier(max_features=None, n_estimators=3000, n_jobs=-1,\n",
       "                       oob_score=True, random_state=42)</pre></div></div></div></div></div>"
      ],
      "text/plain": [
       "RandomForestClassifier(max_features=None, n_estimators=3000, n_jobs=-1,\n",
       "                       oob_score=True, random_state=42)"
      ]
     },
     "execution_count": 14,
     "metadata": {},
     "output_type": "execute_result"
    }
   ],
   "source": [
    "# Create and fit the Random Forest model on the balanced training dataset\n",
    "model = RandomForestClassifier(\n",
    "    criterion='gini',\n",
    "    n_estimators=3000,\n",
    "    min_samples_split=2,\n",
    "    min_samples_leaf=1,\n",
    "    max_features=None,\n",
    "    oob_score=True,\n",
    "    random_state=42,\n",
    "    n_jobs=-1\n",
    ")\n",
    "model.fit(X_train, y_train)"
   ]
  },
  {
   "cell_type": "code",
   "execution_count": 15,
   "metadata": {},
   "outputs": [
    {
     "name": "stdout",
     "output_type": "stream",
     "text": [
      "AUC Score: 0.9082160684698173\n",
      "0.9238\n",
      "Class 0 Error Rate: 0.0129\n",
      "Class 1 Error Rate: 0.4390\n"
     ]
    }
   ],
   "source": [
    "# Predict probabilities on the test set\n",
    "y_pred_proba = model.predict_proba(X_test)[:, 1]\n",
    "# Calculate the AUC score\n",
    "auc_score = roc_auc_score(y_test, y_pred_proba)\n",
    "print(f\"AUC Score: {auc_score}\")\n",
    "print(\"%.4f\" % model.oob_score_)\n",
    "\n",
    "\n",
    "\n",
    "y_pred = model.predict(X_test)\n",
    "cm = confusion_matrix(y_test, y_pred)\n",
    "# Extract the true negative, false positive, false negative, and true positive values\n",
    "tn, fp, fn, tp = cm.ravel()\n",
    "\n",
    "# Calculate class error rates\n",
    "class_0_error = fp / (tn + fp)  # Class 0 (ConsTest = 0)\n",
    "class_1_error = fn / (fn + tp)  # Class 1 (ConsTest = 1)\n",
    "\n",
    "# Print the class error rates\n",
    "print(f\"Class 0 Error Rate: {class_0_error:.4f}\")\n",
    "print(f\"Class 1 Error Rate: {class_1_error:.4f}\")"
   ]
  },
  {
   "cell_type": "code",
   "execution_count": 16,
   "metadata": {},
   "outputs": [],
   "source": [
    "def SumPredict(df, minFreq, maxFreq):\n",
    "  corPredict = []\n",
    "  wrongPredict = []\n",
    "  dfFilt = df[(df[\"ALLELE.FREQUENCY\"] >= minFreq) & (df[\"ALLELE.FREQUENCY\"] <= maxFreq)].reset_index().drop([\"index\"], axis =1)\n",
    "  for i in range(len(dfFilt.index)):\n",
    "    if dfFilt.loc[i, \"Predict_val\"] == dfFilt.loc[i, \"ConsTest\"]:\n",
    "      corPredict.append(dfFilt.loc[i, \"Sample_AlignPos_Ref_Var\"])\n",
    "    else:\n",
    "      wrongPredict.append(dfFilt.loc[i, \"Sample_AlignPos_Ref_Var\"])\n",
    "  numbCorPred = len(corPredict)\n",
    "  numbWrongPred = len(wrongPredict)\n",
    "  return numbCorPred, numbWrongPred\n",
    "\n",
    "def SumPredictPerSamp(df, minFreq, maxFreq):\n",
    "  snvs = []\n",
    "  truePos = []\n",
    "  falsePos = []\n",
    "  Samples = []\n",
    "  totalPos = []\n",
    "  corIdent = []\n",
    "  wrongIdnet = []\n",
    "  falseNeg = []\n",
    "  dfFilt = df[(df[\"ALLELE.FREQUENCY\"] >= minFreq) & (df[\"ALLELE.FREQUENCY\"] <= maxFreq)].reset_index().drop([\"index\"], axis =1)\n",
    "  samples = list(pd.unique(df[\"Sample\"]))\n",
    "  for sample in samples:\n",
    "    corPredict = []\n",
    "    wrongPredict = []\n",
    "    curTruePos = []\n",
    "    curFalsePos = []\n",
    "    curFalseNeg = []\n",
    "    dfSub = dfFilt[dfFilt[\"Sample\"] == sample].reset_index().drop([\"index\"], axis =1)\n",
    "    for i in range(len(dfSub.index)):\n",
    "      if dfSub.loc[i, \"Predict_val\"] == dfSub.loc[i, \"ConsTest\"]:\n",
    "        corPredict.append(dfSub.loc[i, \"Sample_AlignPos_Ref_Var\"])\n",
    "      else:\n",
    "        wrongPredict.append(dfSub.loc[i, \"Sample_AlignPos_Ref_Var\"])\n",
    "        if dfSub.loc[i, \"Predict_val\"] == 1:\n",
    "          curFalsePos.append(dfSub.loc[i, \"Sample_AlignPos_Ref_Var\"])\n",
    "        elif dfSub.loc[i, \"Predict_val\"] == 0:\n",
    "          curFalseNeg.append(dfSub.loc[i, \"Sample_AlignPos_Ref_Var\"])\n",
    "    numbCorPred = len(corPredict)\n",
    "    numbWrongPred = len(wrongPredict)\n",
    "    dfPos = dfSub[dfSub[\"ConsTest\"] ==1].reset_index().drop([\"index\"], axis =1)\n",
    "    curPos = dfPos['Sample_AlignPos_Ref_Var'].nunique()\n",
    "    curSnvs = dfSub['Sample_AlignPos_Ref_Var'].nunique()\n",
    "    for i in range(len(dfPos.index)):\n",
    "      if dfPos.loc[i, \"Predict_val\"] == dfPos.loc[i, \"ConsTest\"]:\n",
    "        curTruePos.append(dfPos.loc[i, \"Sample_AlignPos_Ref_Var\"])\n",
    "        \n",
    "    numbTruePos = len(curTruePos)\n",
    "    numbFalsePos = len(curFalsePos)\n",
    "    numbFalseNeg = len(curFalseNeg)\n",
    "    \n",
    "    #append values\n",
    "    snvs.append(curSnvs)\n",
    "    corIdent.append(numbCorPred)\n",
    "    wrongIdnet.append(numbWrongPred)\n",
    "    Samples.append(sample)\n",
    "    totalPos.append(curPos)\n",
    "    truePos.append(numbTruePos)\n",
    "    falsePos.append(numbFalsePos)\n",
    "    falseNeg.append(numbFalseNeg)\n",
    "  combDat = pd.DataFrame({\"Sample\": Samples, \"Total_SNVs\": snvs, \"Correctly_identified\": corIdent, \"Incorrectly_identified\": wrongIdnet , 'False_Positive': falsePos, \"False_Negative\":falseNeg, \n",
    "                          \"Total_Positive_Truth\": totalPos, \"True_Positive_Ident\": truePos})\n",
    "  return combDat"
   ]
  },
  {
   "cell_type": "code",
   "execution_count": 17,
   "metadata": {},
   "outputs": [
    {
     "name": "stdout",
     "output_type": "stream",
     "text": [
      "92.71913465124953\n",
      "56.104033970276014\n",
      "92.71913465124953\n",
      "AUC Score: 0.9082160684698173\n"
     ]
    }
   ],
   "source": [
    "# make data with Ids and survival\n",
    "X_test_1[\"Predict_val\"] = y_pred\n",
    "X_test_1['ConsTest'] = y_test\n",
    "\n",
    "numbCorPred, numbWrongPred = SumPredict(df = X_test_1, minFreq = 0, maxFreq = 1)\n",
    "print(numbCorPred / (numbCorPred + numbWrongPred) * 100)\n",
    "\n",
    "sumTest = SumPredictPerSamp(df = X_test_1, minFreq = 0, maxFreq = 1)\n",
    "\n",
    "print(sumTest[\"True_Positive_Ident\"].sum() / sumTest[\"Total_Positive_Truth\"].sum() * 100)\n",
    "\n",
    "print(sumTest['Correctly_identified'].sum() / sumTest['Total_SNVs'].sum() * 100)\n",
    "\n",
    "print(f\"AUC Score: {auc_score}\")\n"
   ]
  },
  {
   "cell_type": "code",
   "execution_count": 18,
   "metadata": {},
   "outputs": [
    {
     "name": "stdout",
     "output_type": "stream",
     "text": [
      "1057\n",
      "1884\n",
      "149\n",
      "827\n"
     ]
    }
   ],
   "source": [
    "print(sumTest[\"True_Positive_Ident\"].sum())\n",
    "print(sumTest[\"Total_Positive_Truth\"].sum())\n",
    "print(sumTest[\"False_Positive\"].sum())\n",
    "print(sumTest[\"False_Negative\"].sum())"
   ]
  },
  {
   "cell_type": "code",
   "execution_count": 19,
   "metadata": {},
   "outputs": [
    {
     "name": "stdout",
     "output_type": "stream",
     "text": [
      "86.46027601641178\n",
      "75.5307855626327\n",
      "86.46027601641178\n",
      "Class 0 Error Rate: 0.1175\n",
      "Class 1 Error Rate: 0.2447\n"
     ]
    }
   ],
   "source": [
    "from sklearn.metrics import roc_curve, auc\n",
    "import numpy as np\n",
    "# Calculate the AUC score\n",
    "fpr, tpr, thresholds = roc_curve(y_test, y_pred_proba)\n",
    "roc_auc = auc(fpr, tpr)\n",
    "\n",
    "# Find the threshold that maximizes the Youden's Index (sum of sensitivity and specificity)\n",
    "optimal_idx = np.argmax(tpr - fpr)\n",
    "optimal_threshold = thresholds[optimal_idx]\n",
    "y_cust_pred = (y_pred_proba > optimal_threshold).astype(int)\n",
    "\n",
    "\n",
    "# make data with Ids and survival\n",
    "X_test_1[\"Predict_val\"] = y_cust_pred\n",
    "X_test_1['ConsTest'] = y_test\n",
    "\n",
    "numbCorPred, numbWrongPred = SumPredict(df = X_test_1, minFreq = 0, maxFreq = 1)\n",
    "print(numbCorPred / (numbCorPred + numbWrongPred) * 100)\n",
    "\n",
    "sumTest = SumPredictPerSamp(df = X_test_1, minFreq = 0, maxFreq = 1)\n",
    "\n",
    "print(sumTest[\"True_Positive_Ident\"].sum() / sumTest[\"Total_Positive_Truth\"].sum() * 100)\n",
    "\n",
    "\n",
    "print(sumTest['Correctly_identified'].sum() / sumTest['Total_SNVs'].sum() * 100)\n",
    "\n",
    "#sumTest.to_csv(\"IntraSnv_results/ampseq_ConsTest_freq_1_0_predictSum_balanced_adjustedProb.csv\")\n",
    "\n",
    "cm = confusion_matrix(y_test, y_cust_pred)\n",
    "# Extract the true negative, false positive, false negative, and true positive values\n",
    "tn, fp, fn, tp = cm.ravel()\n",
    "\n",
    "# Calculate class error rates\n",
    "class_0_error = fp / (tn + fp)  # Class 0 (ConsTest = 0)\n",
    "class_1_error = fn / (fn + tp)  # Class 1 (ConsTest = 1)\n",
    "\n",
    "# Print the class error rates\n",
    "print(f\"Class 0 Error Rate: {class_0_error:.4f}\")\n",
    "print(f\"Class 1 Error Rate: {class_1_error:.4f}\")"
   ]
  },
  {
   "cell_type": "code",
   "execution_count": 20,
   "metadata": {},
   "outputs": [
    {
     "name": "stdout",
     "output_type": "stream",
     "text": [
      "1423\n",
      "1884\n",
      "1354\n",
      "461\n"
     ]
    }
   ],
   "source": [
    "print(sumTest[\"True_Positive_Ident\"].sum())\n",
    "print(sumTest[\"Total_Positive_Truth\"].sum())\n",
    "print(sumTest[\"False_Positive\"].sum())\n",
    "print(sumTest[\"False_Negative\"].sum())"
   ]
  }
 ],
 "metadata": {
  "kernelspec": {
   "display_name": "base",
   "language": "python",
   "name": "python3"
  },
  "language_info": {
   "codemirror_mode": {
    "name": "ipython",
    "version": 3
   },
   "file_extension": ".py",
   "mimetype": "text/x-python",
   "name": "python",
   "nbconvert_exporter": "python",
   "pygments_lexer": "ipython3",
   "version": "3.10.8"
  }
 },
 "nbformat": 4,
 "nbformat_minor": 2
}
